{
 "cells": [
  {
   "cell_type": "markdown",
   "id": "acbbb69f",
   "metadata": {},
   "source": [
    "# arguments are needed in [MaskFaceRec.py](MaskFaceRec.py)\n",
    "## so not implemented in notebook"
   ]
  },
  {
   "cell_type": "markdown",
   "id": "6a40c20a",
   "metadata": {},
   "source": []
  }
 ],
 "metadata": {
  "language_info": {
   "name": "python"
  }
 },
 "nbformat": 4,
 "nbformat_minor": 5
}
